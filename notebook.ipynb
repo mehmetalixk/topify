{
 "cells": [
  {
   "cell_type": "code",
   "execution_count": 3,
   "metadata": {},
   "outputs": [],
   "source": [
    "import torch\n",
    "from torch.utils.data import Dataset, DataLoader\n",
    "import os\n",
    "from numpy.random import choice as npc\n",
    "import numpy as np\n",
    "import time\n",
    "import random\n",
    "import torchvision.datasets as dset\n",
    "from PIL import Image\n",
    "import pickle\n",
    "import torchvision\n",
    "from torchvision import transforms\n",
    "from torch.utils.data import DataLoader\n",
    "from torch.autograd import Variable\n",
    "import matplotlib.pyplot as plt\n",
    "import seaborn as sns\n",
    "import time\n",
    "import torch.nn as nn\n",
    "import torch.nn.functional as F"
   ]
  },
  {
   "cell_type": "code",
   "execution_count": 10,
   "metadata": {},
   "outputs": [
    {
     "name": "stdout",
     "output_type": "stream",
     "text": [
      "C:\\Users\\c-e-m\\OneDrive\\Masaüstü\\Jupyter python kodları\\BBM406 Project\\one-shot-learning/training/\n",
      "C:\\Users\\c-e-m\\OneDrive\\Masaüstü\\Jupyter python kodları\\BBM406 Project\\one-shot-learning/training/Alphabet_of_the_Magi\n",
      "C:\\Users\\c-e-m\\OneDrive\\Masaüstü\\Jupyter python kodları\\BBM406 Project\\one-shot-learning/training/Anglo-Saxon_Futhorc\n",
      "C:\\Users\\c-e-m\\OneDrive\\Masaüstü\\Jupyter python kodları\\BBM406 Project\\one-shot-learning/training/Arcadian\n",
      "C:\\Users\\c-e-m\\OneDrive\\Masaüstü\\Jupyter python kodları\\BBM406 Project\\one-shot-learning/training/Armenian\n",
      "C:\\Users\\c-e-m\\OneDrive\\Masaüstü\\Jupyter python kodları\\BBM406 Project\\one-shot-learning/training/Asomtavruli_(Georgian)\n",
      "C:\\Users\\c-e-m\\OneDrive\\Masaüstü\\Jupyter python kodları\\BBM406 Project\\one-shot-learning/training/Balinese\n",
      "C:\\Users\\c-e-m\\OneDrive\\Masaüstü\\Jupyter python kodları\\BBM406 Project\\one-shot-learning/training/Bengali\n",
      "C:\\Users\\c-e-m\\OneDrive\\Masaüstü\\Jupyter python kodları\\BBM406 Project\\one-shot-learning/training/Blackfoot_(Canadian_Aboriginal_Syllabics)\n",
      "C:\\Users\\c-e-m\\OneDrive\\Masaüstü\\Jupyter python kodları\\BBM406 Project\\one-shot-learning/training/Braille\n",
      "C:\\Users\\c-e-m\\OneDrive\\Masaüstü\\Jupyter python kodları\\BBM406 Project\\one-shot-learning/training/Burmese_(Myanmar)\n",
      "C:\\Users\\c-e-m\\OneDrive\\Masaüstü\\Jupyter python kodları\\BBM406 Project\\one-shot-learning/training/Cyrillic\n",
      "C:\\Users\\c-e-m\\OneDrive\\Masaüstü\\Jupyter python kodları\\BBM406 Project\\one-shot-learning/training/Early_Aramaic\n",
      "C:\\Users\\c-e-m\\OneDrive\\Masaüstü\\Jupyter python kodları\\BBM406 Project\\one-shot-learning/training/Futurama\n",
      "C:\\Users\\c-e-m\\OneDrive\\Masaüstü\\Jupyter python kodları\\BBM406 Project\\one-shot-learning/training/Grantha\n",
      "C:\\Users\\c-e-m\\OneDrive\\Masaüstü\\Jupyter python kodları\\BBM406 Project\\one-shot-learning/training/Greek\n",
      "C:\\Users\\c-e-m\\OneDrive\\Masaüstü\\Jupyter python kodları\\BBM406 Project\\one-shot-learning/training/Gujarati\n",
      "C:\\Users\\c-e-m\\OneDrive\\Masaüstü\\Jupyter python kodları\\BBM406 Project\\one-shot-learning/training/Hebrew\n",
      "C:\\Users\\c-e-m\\OneDrive\\Masaüstü\\Jupyter python kodları\\BBM406 Project\\one-shot-learning/training/Inuktitut_(Canadian_Aboriginal_Syllabics)\n",
      "C:\\Users\\c-e-m\\OneDrive\\Masaüstü\\Jupyter python kodları\\BBM406 Project\\one-shot-learning/training/Japanese_(hiragana)\n",
      "C:\\Users\\c-e-m\\OneDrive\\Masaüstü\\Jupyter python kodları\\BBM406 Project\\one-shot-learning/training/Japanese_(katakana)\n",
      "C:\\Users\\c-e-m\\OneDrive\\Masaüstü\\Jupyter python kodları\\BBM406 Project\\one-shot-learning/training/Korean\n",
      "C:\\Users\\c-e-m\\OneDrive\\Masaüstü\\Jupyter python kodları\\BBM406 Project\\one-shot-learning/training/Latin\n",
      "C:\\Users\\c-e-m\\OneDrive\\Masaüstü\\Jupyter python kodları\\BBM406 Project\\one-shot-learning/training/Malay_(Jawi_-_Arabic)\n",
      "C:\\Users\\c-e-m\\OneDrive\\Masaüstü\\Jupyter python kodları\\BBM406 Project\\one-shot-learning/training/Mkhedruli_(Georgian)\n",
      "C:\\Users\\c-e-m\\OneDrive\\Masaüstü\\Jupyter python kodları\\BBM406 Project\\one-shot-learning/training/N_Ko\n",
      "C:\\Users\\c-e-m\\OneDrive\\Masaüstü\\Jupyter python kodları\\BBM406 Project\\one-shot-learning/training/Ojibwe_(Canadian_Aboriginal_Syllabics)\n",
      "C:\\Users\\c-e-m\\OneDrive\\Masaüstü\\Jupyter python kodları\\BBM406 Project\\one-shot-learning/training/Sanskrit\n",
      "C:\\Users\\c-e-m\\OneDrive\\Masaüstü\\Jupyter python kodları\\BBM406 Project\\one-shot-learning/training/Syriac_(Estrangelo)\n",
      "C:\\Users\\c-e-m\\OneDrive\\Masaüstü\\Jupyter python kodları\\BBM406 Project\\one-shot-learning/training/Tagalog\n",
      "C:\\Users\\c-e-m\\OneDrive\\Masaüstü\\Jupyter python kodları\\BBM406 Project\\one-shot-learning/training/Tifinagh\n",
      "C:\\Users\\c-e-m\\OneDrive\\Masaüstü\\Jupyter python kodları\\BBM406 Project\\one-shot-learning/evaluation/\n",
      "C:\\Users\\c-e-m\\OneDrive\\Masaüstü\\Jupyter python kodları\\BBM406 Project\\one-shot-learning/evaluation/Angelic\n",
      "C:\\Users\\c-e-m\\OneDrive\\Masaüstü\\Jupyter python kodları\\BBM406 Project\\one-shot-learning/evaluation/Atemayar_Qelisayer\n",
      "C:\\Users\\c-e-m\\OneDrive\\Masaüstü\\Jupyter python kodları\\BBM406 Project\\one-shot-learning/evaluation/Atlantean\n",
      "C:\\Users\\c-e-m\\OneDrive\\Masaüstü\\Jupyter python kodları\\BBM406 Project\\one-shot-learning/evaluation/Aurek-Besh\n",
      "C:\\Users\\c-e-m\\OneDrive\\Masaüstü\\Jupyter python kodları\\BBM406 Project\\one-shot-learning/evaluation/Avesta\n",
      "C:\\Users\\c-e-m\\OneDrive\\Masaüstü\\Jupyter python kodları\\BBM406 Project\\one-shot-learning/evaluation/Ge_ez\n",
      "C:\\Users\\c-e-m\\OneDrive\\Masaüstü\\Jupyter python kodları\\BBM406 Project\\one-shot-learning/evaluation/Glagolitic\n",
      "C:\\Users\\c-e-m\\OneDrive\\Masaüstü\\Jupyter python kodları\\BBM406 Project\\one-shot-learning/evaluation/Gurmukhi\n",
      "C:\\Users\\c-e-m\\OneDrive\\Masaüstü\\Jupyter python kodları\\BBM406 Project\\one-shot-learning/evaluation/Kannada\n",
      "C:\\Users\\c-e-m\\OneDrive\\Masaüstü\\Jupyter python kodları\\BBM406 Project\\one-shot-learning/evaluation/Keble\n",
      "C:\\Users\\c-e-m\\OneDrive\\Masaüstü\\Jupyter python kodları\\BBM406 Project\\one-shot-learning/evaluation/Malayalam\n",
      "C:\\Users\\c-e-m\\OneDrive\\Masaüstü\\Jupyter python kodları\\BBM406 Project\\one-shot-learning/evaluation/Manipuri\n",
      "C:\\Users\\c-e-m\\OneDrive\\Masaüstü\\Jupyter python kodları\\BBM406 Project\\one-shot-learning/evaluation/Mongolian\n",
      "C:\\Users\\c-e-m\\OneDrive\\Masaüstü\\Jupyter python kodları\\BBM406 Project\\one-shot-learning/evaluation/Old_Church_Slavonic_(Cyrillic)\n",
      "C:\\Users\\c-e-m\\OneDrive\\Masaüstü\\Jupyter python kodları\\BBM406 Project\\one-shot-learning/evaluation/Oriya\n",
      "C:\\Users\\c-e-m\\OneDrive\\Masaüstü\\Jupyter python kodları\\BBM406 Project\\one-shot-learning/evaluation/Sylheti\n",
      "C:\\Users\\c-e-m\\OneDrive\\Masaüstü\\Jupyter python kodları\\BBM406 Project\\one-shot-learning/evaluation/Syriac_(Serto)\n",
      "C:\\Users\\c-e-m\\OneDrive\\Masaüstü\\Jupyter python kodları\\BBM406 Project\\one-shot-learning/evaluation/Tengwar\n",
      "C:\\Users\\c-e-m\\OneDrive\\Masaüstü\\Jupyter python kodları\\BBM406 Project\\one-shot-learning/evaluation/Tibetan\n",
      "C:\\Users\\c-e-m\\OneDrive\\Masaüstü\\Jupyter python kodları\\BBM406 Project\\one-shot-learning/evaluation/ULOG\n"
     ]
    }
   ],
   "source": [
    "%run make_dataset.py"
   ]
  },
  {
   "cell_type": "code",
   "execution_count": 4,
   "metadata": {},
   "outputs": [],
   "source": [
    "class OmniglotTrain(Dataset):\n",
    "\n",
    "    def __init__(self, dataset, transform=None):\n",
    "        super(OmniglotTrain, self).__init__()\n",
    "        np.random.seed(0)\n",
    "        self.dataset = dataset\n",
    "        self.transform = transform\n",
    "        self.img1 = None\n",
    "\n",
    "    def __len__(self):\n",
    "        return  21000000\n",
    "\n",
    "    def __getitem__(self, index):\n",
    "        image1 = random.choice(self.dataset.imgs)\n",
    "        # get image from same class\n",
    "        label = None\n",
    "        if index % 2 == 1:\n",
    "            label = 1.0\n",
    "            while True:\n",
    "                image2 = random.choice(self.dataset.imgs)\n",
    "                if image1[1] == image2[1]:\n",
    "                    break\n",
    "        # get image from different class\n",
    "        else:\n",
    "            label = 0.0\n",
    "            while True:\n",
    "                image2 = random.choice(self.dataset.imgs)\n",
    "                if image1[1] != image2[1]:\n",
    "                    break\n",
    "        image1 = Image.open(image1[0])\n",
    "        image2 = Image.open(image2[0])\n",
    "        image1 = image1.convert('L')\n",
    "        image2 = image2.convert('L')\n",
    "\n",
    "        if self.transform:\n",
    "            image1 = self.transform(image1)\n",
    "            image2 = self.transform(image2)\n",
    "        return image1, image2, torch.from_numpy(np.array([label], dtype=np.float32))"
   ]
  },
  {
   "cell_type": "code",
   "execution_count": 5,
   "metadata": {},
   "outputs": [],
   "source": [
    "class OmniglotTest(Dataset):\n",
    "\n",
    "    def __init__(self, dataset, transform=None, times=200, way=20):\n",
    "        np.random.seed(1)\n",
    "        super(OmniglotTest, self).__init__()\n",
    "        self.dataset = dataset\n",
    "        self.transform = transform\n",
    "        self.times = times\n",
    "        self.way = way\n",
    "\n",
    "    def __len__(self):\n",
    "        return self.times * self.way\n",
    "\n",
    "    def __getitem__(self, index):\n",
    "        idx = index % self.way\n",
    "        label = None\n",
    "        # generate image pair from same class\n",
    "        if idx == 0:\n",
    "            self.img1 = random.choice(self.dataset.imgs)\n",
    "            while True:\n",
    "                img2 = random.choice(self.dataset.imgs)\n",
    "                if self.img1[1] == img2[1]:\n",
    "                    break\n",
    "        # generate image pair from different class\n",
    "        else:\n",
    "            while True:\n",
    "                img2 = random.choice(self.dataset.imgs)\n",
    "                if self.img1[1] != img2[1]:\n",
    "                    break\n",
    "\n",
    "        img1 = Image.open(self.img1[0])\n",
    "        img2 = Image.open(img2[0])\n",
    "        img1 = img1.convert('L')\n",
    "        img2 = img2.convert('L')\n",
    "\n",
    "        if self.transform:\n",
    "            img1 = self.transform(img1)\n",
    "            img2 = self.transform(img2)\n",
    "        return img1, img2\n"
   ]
  },
  {
   "cell_type": "code",
   "execution_count": 6,
   "metadata": {},
   "outputs": [],
   "source": [
    "class Siamese(nn.Module):\n",
    "\n",
    "    def __init__(self):\n",
    "        super(Siamese, self).__init__()\n",
    "        self.conv = nn.Sequential(\n",
    "            nn.Conv2d(1, 64, 10),  # 64@96*96\n",
    "            nn.ReLU(inplace=True),\n",
    "            nn.MaxPool2d(2),  # 64@48*48\n",
    "            nn.Conv2d(64, 128, 7),\n",
    "            nn.ReLU(),    # 128@42*42\n",
    "            nn.MaxPool2d(2),   # 128@21*21\n",
    "            nn.Conv2d(128, 128, 4),\n",
    "            nn.ReLU(), # 128@18*18\n",
    "            nn.MaxPool2d(2), # 128@9*9\n",
    "            nn.Conv2d(128, 256, 4),\n",
    "            nn.ReLU(),   # 256@6*6\n",
    "        )\n",
    "        self.liner = nn.Sequential(nn.Linear(9216, 4096), nn.Sigmoid())\n",
    "        self.out = nn.Linear(4096, 1)\n",
    "\n",
    "    def forward_one(self, x):\n",
    "        x = self.conv(x)\n",
    "        x = x.view(x.size()[0], -1)\n",
    "        x = self.liner(x)\n",
    "        return x\n",
    "\n",
    "    def forward(self, x1, x2):\n",
    "        out1 = self.forward_one(x1)\n",
    "        out2 = self.forward_one(x2)\n",
    "        dis = torch.abs(out1 - out2)\n",
    "        out = self.out(dis)\n",
    "        #  return self.sigmoid(out)\n",
    "        return out"
   ]
  },
  {
   "cell_type": "code",
   "execution_count": 7,
   "metadata": {},
   "outputs": [
    {
     "name": "stdout",
     "output_type": "stream",
     "text": [
      "Cuda: False\n"
     ]
    }
   ],
   "source": [
    "cuda = torch.cuda.is_available()\n",
    "print(\"Cuda: \" + str(cuda))          #Checking if CUDA is available"
   ]
  },
  {
   "cell_type": "code",
   "execution_count": 8,
   "metadata": {},
   "outputs": [],
   "source": [
    "data_transforms = transforms.Compose([\n",
    "    transforms.RandomAffine(15),\n",
    "    transforms.ToTensor()\n",
    "])"
   ]
  },
  {
   "cell_type": "code",
   "execution_count": 9,
   "metadata": {},
   "outputs": [],
   "source": [
    "train_path = 'training'\n",
    "test_path = 'evaluation'\n",
    "train_dataset = dset.ImageFolder(root=train_path)\n",
    "test_dataset = dset.ImageFolder(root=test_path)"
   ]
  },
  {
   "cell_type": "code",
   "execution_count": 10,
   "metadata": {},
   "outputs": [
    {
     "name": "stderr",
     "output_type": "stream",
     "text": [
      "c:\\users\\c-e-m\\appdata\\local\\programs\\python\\python39\\lib\\site-packages\\torch\\utils\\data\\dataloader.py:474: UserWarning: This DataLoader will create 16 worker processes in total. Our suggested max number of worker in current system is 8 (`cpuset` is not taken into account), which is smaller than what this DataLoader is going to create. Please be aware that excessive worker creation might get DataLoader running slow or even freeze, lower the worker number to avoid potential slowness/freeze if necessary.\n",
      "  warnings.warn(_create_warning_msg(\n"
     ]
    }
   ],
   "source": [
    "way = 20\n",
    "times = 400\n",
    "\n",
    "dataSet = OmniglotTrain(train_dataset, transform=data_transforms)\n",
    "testSet = OmniglotTest(test_dataset, transform=transforms.ToTensor(), times = times, way = way)\n",
    "testLoader = DataLoader(testSet, batch_size=way, shuffle=False, num_workers=16)\n",
    "\n",
    "dataLoader = DataLoader(dataSet, batch_size=128,\\\n",
    "                        shuffle=False, num_workers=16)"
   ]
  },
  {
   "cell_type": "code",
   "execution_count": 11,
   "metadata": {},
   "outputs": [
    {
     "name": "stderr",
     "output_type": "stream",
     "text": [
      "c:\\users\\c-e-m\\appdata\\local\\programs\\python\\python39\\lib\\site-packages\\torch\\nn\\_reduction.py:42: UserWarning: size_average and reduce args will be deprecated, please use reduction='mean' instead.\n",
      "  warnings.warn(warning.format(ret))\n"
     ]
    }
   ],
   "source": [
    "loss_fn = torch.nn.BCEWithLogitsLoss(size_average=True)\n",
    "learning_rate = 0.0006\n",
    "net = Siamese()\n",
    "train_loss = []\n",
    "net.train()\n",
    "if cuda:\n",
    "    net.cuda()"
   ]
  },
  {
   "cell_type": "code",
   "execution_count": 12,
   "metadata": {},
   "outputs": [],
   "source": [
    "optimizer = torch.optim.Adam(net.parameters(),lr = learning_rate )\n",
    "optimizer.zero_grad()"
   ]
  },
  {
   "cell_type": "code",
   "execution_count": 13,
   "metadata": {},
   "outputs": [],
   "source": [
    "show_every = 10\n",
    "save_every = 100\n",
    "test_every = 100\n",
    "train_loss = []\n",
    "loss_val = 0\n",
    "max_iter = 90000\n",
    "losses=[]\n",
    "batch_ids= []"
   ]
  },
  {
   "cell_type": "code",
   "execution_count": null,
   "metadata": {},
   "outputs": [],
   "source": [
    "for batch_id, (img1, img2, label) in enumerate(dataLoader, 1):\n",
    "    if batch_id > max_iter:\n",
    "        break\n",
    "    batch_start = time.time()\n",
    "    if cuda:\n",
    "        img1, img2, label = Variable(img1.cuda()), Variable(img2.cuda()), Variable(label.cuda())\n",
    "    else:\n",
    "        img1, img2, label = Variable(img1), Variable(img2), Variable(label)\n",
    "    optimizer.zero_grad()\n",
    "    output = net.forward(img1, img2)\n",
    "    loss = loss_fn(output, label)\n",
    "    loss_val += loss.item()\n",
    "    loss.backward()\n",
    "    optimizer.step()\n",
    "    if batch_id % show_every == 0 :\n",
    "        print('[%d]\\tloss:\\t%.5f\\tTook\\t%.2f s'%(batch_id, loss_val/show_every, (time.time() - batch_start)*show_every))\n",
    "        batch_ids.append(float(batch_id))\n",
    "        losses.append(loss_val/show_every)\n",
    "        loss_val = 0\n",
    "    if batch_id % save_every == 0:\n",
    "        torch.save(net.state_dict(), 'model/model-batch-%d.pth'%(batch_id+1,))\n",
    "    if batch_id % test_every == 0:\n",
    "        right, error = 0, 0\n",
    "        for _, (test1, test2) in enumerate(testLoader, 1):\n",
    "            if cuda:\n",
    "                test1, test2 = test1.cuda(), test2.cuda()\n",
    "            test1, test2 = Variable(test1), Variable(test2)\n",
    "            output = net.forward(test1, test2).data.cpu().numpy()\n",
    "            pred = np.argmax(output)\n",
    "            if pred == 0:\n",
    "                right += 1\n",
    "            else: error += 1\n",
    "        print('*'*70)\n",
    "        print('[%d]\\tright:\\t%d\\terror:\\t%d\\tprecision:\\t%f'%(batch_id, right, error, right*1.0/(right+error)))\n",
    "        print('*'*70)\n",
    "    train_loss.append(loss_val)\n",
    "#  learning_rate = learning_rate * 0.95\n",
    "\n",
    "with open('train_loss', 'wb') as f:\n",
    "    pickle.dump(train_loss, f)"
   ]
  },
  {
   "cell_type": "code",
   "execution_count": null,
   "metadata": {},
   "outputs": [],
   "source": [
    "ax = sns.lineplot(batch_ids, losses)\n",
    "ax.set(xlabel='No. of iteartions', ylabel='loss')\n",
    "plt.show()"
   ]
  },
  {
   "cell_type": "code",
   "execution_count": null,
   "metadata": {},
   "outputs": [],
   "source": []
  }
 ],
 "metadata": {
  "kernelspec": {
   "display_name": "Python 3",
   "language": "python",
   "name": "python3"
  },
  "language_info": {
   "codemirror_mode": {
    "name": "ipython",
    "version": 3
   },
   "file_extension": ".py",
   "mimetype": "text/x-python",
   "name": "python",
   "nbconvert_exporter": "python",
   "pygments_lexer": "ipython3",
   "version": "3.9.2"
  }
 },
 "nbformat": 4,
 "nbformat_minor": 4
}
